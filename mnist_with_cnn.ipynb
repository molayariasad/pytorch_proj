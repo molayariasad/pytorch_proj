{
 "cells": [
  {
   "cell_type": "code",
   "execution_count": 2,
   "metadata": {},
   "outputs": [],
   "source": [
    "import torch\n",
    "import torch.nn as nn\n",
    "import torch.nn.functional as F\n",
    "from torch.utils.data import DataLoader\n",
    "from torchvision import datasets, transforms\n",
    "from torchvision.utils import make_grid\n",
    "\n",
    "import numpy as np\n",
    "import pandas as pd\n",
    "from sklearn.metrics import confusion_matrix\n",
    "import matplotlib.pyplot as plt\n",
    "%matplotlib inline"
   ]
  },
  {
   "cell_type": "code",
   "execution_count": 5,
   "metadata": {},
   "outputs": [],
   "source": [
    "transform = transforms.ToTensor()\n",
    "train_data = datasets.MNIST(root='/Users/asadmolayari/Desktop/my_courses/pytorch/Data', train=True, \\\n",
    "                            download=True, transform=transform)\n",
    "\n",
    "test_data = datasets.MNIST(root = '/Users/asadmolayari/Desktop/my_courses/pytorch/Data',\\\n",
    "                           train=False, download=True, transform=transform)\n"
   ]
  },
  {
   "cell_type": "code",
   "execution_count": 7,
   "metadata": {},
   "outputs": [
    {
     "data": {
      "text/plain": [
       "Dataset MNIST\n",
       "    Number of datapoints: 60000\n",
       "    Root location: /Users/asadmolayari/Desktop/my_courses/pytorch/Data\n",
       "    Split: Train\n",
       "    StandardTransform\n",
       "Transform: ToTensor()"
      ]
     },
     "execution_count": 7,
     "metadata": {},
     "output_type": "execute_result"
    }
   ],
   "source": [
    "train_data"
   ]
  },
  {
   "cell_type": "code",
   "execution_count": 8,
   "metadata": {},
   "outputs": [
    {
     "data": {
      "text/plain": [
       "Dataset MNIST\n",
       "    Number of datapoints: 10000\n",
       "    Root location: /Users/asadmolayari/Desktop/my_courses/pytorch/Data\n",
       "    Split: Test\n",
       "    StandardTransform\n",
       "Transform: ToTensor()"
      ]
     },
     "execution_count": 8,
     "metadata": {},
     "output_type": "execute_result"
    }
   ],
   "source": [
    "test_data"
   ]
  },
  {
   "cell_type": "code",
   "execution_count": 10,
   "metadata": {},
   "outputs": [],
   "source": [
    "train_loader = DataLoader(train_data, batch_size=6, shuffle=True)\n",
    "test_loader = DataLoader(test_data, batch_size=6, shuffle=False)"
   ]
  },
  {
   "cell_type": "code",
   "execution_count": 48,
   "metadata": {},
   "outputs": [],
   "source": [
    "class ConvolutionalNetwork(nn.Module):\n",
    "    def __init__(self):\n",
    "        super().__init__()\n",
    "        self.conv1 = nn.Conv2d(1,6,3,1)\n",
    "        self.conv2 = nn.Conv2d(6,16,3,1)\n",
    "        self.fc1 = nn.Linear(5*5*16, 120)\n",
    "        self.fc2 = nn.Linear(120,84)\n",
    "        self.fc3 = nn.Linear(84,10)\n",
    "        \n",
    "    def forward(self, X):\n",
    "        X = F.relu(self.conv1(X))\n",
    "        X = F.max_pool2d(X,2,2)\n",
    "        X = F.relu(self.conv2(X))\n",
    "        X = F.max_pool2d(X,2,2)\n",
    "        X = X.view(-1,5*5*16)\n",
    "        X = F.relu(self.fc1(X))\n",
    "        X = F.relu(self.fc2(X))\n",
    "        X = self.fc3(X)\n",
    "        \n",
    "        return F.log_softmax(X, dim=1)\n",
    "        "
   ]
  },
  {
   "cell_type": "code",
   "execution_count": 49,
   "metadata": {},
   "outputs": [
    {
     "data": {
      "text/plain": [
       "ConvolutionalNetwork(\n",
       "  (conv1): Conv2d(1, 6, kernel_size=(3, 3), stride=(1, 1))\n",
       "  (conv2): Conv2d(6, 16, kernel_size=(3, 3), stride=(1, 1))\n",
       "  (fc1): Linear(in_features=400, out_features=120, bias=True)\n",
       "  (fc2): Linear(in_features=120, out_features=84, bias=True)\n",
       "  (fc3): Linear(in_features=84, out_features=10, bias=True)\n",
       ")"
      ]
     },
     "execution_count": 49,
     "metadata": {},
     "output_type": "execute_result"
    }
   ],
   "source": [
    "torch.manual_seed(42)\n",
    "model = ConvolutionalNetwork()\n",
    "model"
   ]
  },
  {
   "cell_type": "code",
   "execution_count": 50,
   "metadata": {},
   "outputs": [],
   "source": [
    "criterion = nn.CrossEntropyLoss()\n",
    "optimizer = torch.optim.Adam(model.parameters(), lr = 0.001)"
   ]
  },
  {
   "cell_type": "code",
   "execution_count": 54,
   "metadata": {
    "scrolled": true
   },
   "outputs": [
    {
     "name": "stdout",
     "output_type": "stream",
     "text": [
      "Epoch 0 Batch 600 Loss: 0.003898182651028037\n",
      "Epoch 0 Batch 1200 Loss: 0.010948051698505878\n",
      "Epoch 0 Batch 1800 Loss: 0.23084469139575958\n",
      "Epoch 0 Batch 2400 Loss: 0.00012789636093657464\n",
      "Epoch 0 Batch 3000 Loss: 0.0012569258688017726\n",
      "Epoch 0 Batch 3600 Loss: 7.392215047730133e-05\n",
      "Epoch 0 Batch 4200 Loss: 0.00021580560132861137\n",
      "Epoch 0 Batch 4800 Loss: 0.0028372991364449263\n",
      "Epoch 0 Batch 5400 Loss: 5.8124554925598204e-05\n",
      "Epoch 0 Batch 6000 Loss: 0.03180611506104469\n",
      "Epoch 0 Batch 6600 Loss: 8.742003387851582e-07\n",
      "Epoch 0 Batch 7200 Loss: 0.013961280696094036\n",
      "Epoch 0 Batch 7800 Loss: 0.002210821956396103\n",
      "Epoch 0 Batch 8400 Loss: 0.0011053503258153796\n",
      "Epoch 0 Batch 9000 Loss: 0.19203799962997437\n",
      "Epoch 0 Batch 9600 Loss: 0.004445312544703484\n",
      "Epoch 1 Batch 600 Loss: 3.7310215702746063e-05\n",
      "Epoch 1 Batch 1200 Loss: 2.948258952528704e-05\n",
      "Epoch 1 Batch 1800 Loss: 0.000187613011803478\n",
      "Epoch 1 Batch 2400 Loss: 0.0002236874570371583\n",
      "Epoch 1 Batch 3000 Loss: 0.002826773328706622\n",
      "Epoch 1 Batch 3600 Loss: 0.23412823677062988\n",
      "Epoch 1 Batch 4200 Loss: 0.0025760652497410774\n",
      "Epoch 1 Batch 4800 Loss: 0.033539701253175735\n",
      "Epoch 1 Batch 5400 Loss: 5.6699413107708097e-05\n",
      "Epoch 1 Batch 6000 Loss: 0.006147544831037521\n",
      "Epoch 1 Batch 6600 Loss: 0.003529764711856842\n",
      "Epoch 1 Batch 7200 Loss: 0.0005468621966429055\n",
      "Epoch 1 Batch 7800 Loss: 0.3252788186073303\n",
      "Epoch 1 Batch 8400 Loss: 0.00016133426106534898\n",
      "Epoch 1 Batch 9000 Loss: 2.473488166288007e-05\n",
      "Epoch 1 Batch 9600 Loss: 0.00016547448467463255\n",
      "Epoch 2 Batch 600 Loss: 0.003191431751474738\n",
      "Epoch 2 Batch 1200 Loss: 3.3654054277576506e-05\n",
      "Epoch 2 Batch 1800 Loss: 5.038193557993509e-05\n",
      "Epoch 2 Batch 2400 Loss: 0.00028290311456657946\n",
      "Epoch 2 Batch 3000 Loss: 0.0012456529075279832\n",
      "Epoch 2 Batch 3600 Loss: 2.994009446410928e-05\n",
      "Epoch 2 Batch 4200 Loss: 0.0022386920172721148\n",
      "Epoch 2 Batch 4800 Loss: 8.666364010423422e-05\n",
      "Epoch 2 Batch 5400 Loss: 0.0002744336088653654\n",
      "Epoch 2 Batch 6000 Loss: 0.0002176392445107922\n",
      "Epoch 2 Batch 6600 Loss: 6.712666800012812e-05\n",
      "Epoch 2 Batch 7200 Loss: 0.16185308992862701\n",
      "Epoch 2 Batch 7800 Loss: 0.00010873976862058043\n",
      "Epoch 2 Batch 8400 Loss: 1.845673796196934e-05\n",
      "Epoch 2 Batch 9000 Loss: 0.0003839769633486867\n",
      "Epoch 2 Batch 9600 Loss: 0.00011891671601915732\n"
     ]
    }
   ],
   "source": [
    "import time\n",
    "start_time = time.time()\n",
    "\n",
    "epochs =3\n",
    "\n",
    "train_losses =[]\n",
    "test_losses = []\n",
    "trn_correct =[]\n",
    "tst_correct =[]\n",
    "\n",
    "for i in range(epochs):\n",
    "    trn_corr = 0\n",
    "    tst_crr= 0\n",
    "    \n",
    "    for b, (X_train, y_train) in enumerate (train_loader):\n",
    "        b+=1\n",
    "        \n",
    "        y_pred = model(X_train)\n",
    "        loss = criterion(y_pred, y_train)\n",
    "        predicted = torch.max(y_pred.data, 1)[1]\n",
    "        batch_corr = (predicted==y_train).sum()\n",
    "        \n",
    "        trn_corr+=batch_corr\n",
    "        \n",
    "        optimizer.zero_grad()\n",
    "        loss.backward()\n",
    "        optimizer.step()\n",
    "        \n",
    "        if b%600==0:\n",
    "            print(f\"Epoch {i} Batch {b} Loss: {loss.item()}\")\n",
    "            \n",
    "    train_losses.append(loss)\n",
    "    trn_correct.append(trn_corr)\n",
    "    \n",
    "    with torch.no_grad():\n",
    "        \n",
    "        for b, (X_test, y_test) in enumerate (test_loader):\n",
    "            \n",
    "            y_val = model(X_test)\n",
    "            predicted = torch.max(y_val.data, 1)[1]\n",
    "            \n",
    "            tst_crr += (predicted==y_test).sum()\n",
    "            \n",
    "    loss = criterion(y_val, y_test)\n",
    "    test_losses.append(loss)\n",
    "    tst_correct.append(tst_crr)\n",
    "        "
   ]
  },
  {
   "cell_type": "code",
   "execution_count": 55,
   "metadata": {},
   "outputs": [
    {
     "data": {
      "image/png": "[encoded data removed]",
      "text/plain": [
       "<Figure size 432x288 with 1 Axes>"
      ]
     },
     "metadata": {
      "needs_background": "light"
     },
     "output_type": "display_data"
    }
   ],
   "source": [
    "plt.plot(train_losses, label='training loss')\n",
    "plt.plot(test_losses, label='validation loss')\n",
    "plt.title('Loss at the end of each epoch')\n",
    "plt.legend();"
   ]
  },
  {
   "cell_type": "markdown",
   "metadata": {},
   "source": [
    "While there may be some overfitting of the training data, there is far less than we saw with the ANN model."
   ]
  },
  {
   "cell_type": "code",
   "execution_count": 56,
   "metadata": {},
   "outputs": [
    {
     "data": {
      "image/png": "[encoded data removed]",
      "text/plain": [
       "<Figure size 432x288 with 1 Axes>"
      ]
     },
     "metadata": {
      "needs_background": "light"
     },
     "output_type": "display_data"
    }
   ],
   "source": [
    "plt.plot([t/600 for t in trn_correct], label='training accuracy')\n",
    "plt.plot([t/100 for t in tst_correct], label='validation accuracy')\n",
    "plt.title('Accuracy at the end of each epoch')\n",
    "plt.legend();"
   ]
  },
  {
   "cell_type": "markdown",
   "metadata": {},
   "source": [
    "## Evaluate Test Data"
   ]
  },
  {
   "cell_type": "code",
   "execution_count": 23,
   "metadata": {},
   "outputs": [],
   "source": [
    "# Extract the data all at once, not in batches\n",
    "test_load_all = DataLoader(test_data, batch_size=10000, shuffle=False)"
   ]
  },
  {
   "cell_type": "code",
   "execution_count": 24,
   "metadata": {},
   "outputs": [
    {
     "name": "stdout",
     "output_type": "stream",
     "text": [
      "Test accuracy: 9848/10000 =  98.480%\n"
     ]
    }
   ],
   "source": [
    "with torch.no_grad():\n",
    "    correct = 0\n",
    "    for X_test, y_test in test_load_all:\n",
    "        y_val = model(X_test)  # we don't flatten the data this time\n",
    "        predicted = torch.max(y_val,1)[1]\n",
    "        correct += (predicted == y_test).sum()\n",
    "print(f'Test accuracy: {correct.item()}/{len(test_data)} = {correct.item()*100/(len(test_data)):7.3f}%')"
   ]
  }
 ],
 "metadata": {
  "kernelspec": {
   "display_name": "Python 3",
   "language": "python",
   "name": "python3"
  },
  "language_info": {
   "codemirror_mode": {
    "name": "ipython",
    "version": 3
   },
   "file_extension": ".py",
   "mimetype": "text/x-python",
   "name": "python",
   "nbconvert_exporter": "python",
   "pygments_lexer": "ipython3",
   "version": "3.7.3"
  }
 },
 "nbformat": 4,
 "nbformat_minor": 2
}
